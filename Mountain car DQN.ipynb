{
 "cells": [
  {
   "cell_type": "markdown",
   "metadata": {},
   "source": [
    "Briefly about content:\n",
    "* Train model with DQN algorithm for Mountain car problem\n",
    "* Use Experience Replay, Reward Shaping techniques and Auxiliary loss\n",
    "* Test different setups (Model's arhitecture, Reward function, Loss function) to find best one"
   ]
  },
  {
   "cell_type": "code",
   "execution_count": 1,
   "metadata": {},
   "outputs": [],
   "source": [
    "import numpy as np\n",
    "import torch\n",
    "import torch.nn as nn\n",
    "import torch.nn.functional as F\n",
    "\n",
    "import copy\n",
    "import random\n",
    "import matplotlib.patches as mpatches\n",
    "import matplotlib.pyplot as plt\n",
    "from tqdm import tqdm_notebook as tqdm\n",
    "from collections import Iterable\n",
    "import gym"
   ]
  },
  {
   "cell_type": "markdown",
   "metadata": {},
   "source": [
    "### Problem"
   ]
  },
  {
   "cell_type": "markdown",
   "metadata": {},
   "source": [
    "Let's get some information about environment"
   ]
  },
  {
   "cell_type": "code",
   "execution_count": 2,
   "metadata": {},
   "outputs": [],
   "source": [
    "env = gym.make(\"MountainCar-v0\")"
   ]
  },
  {
   "cell_type": "code",
   "execution_count": 3,
   "metadata": {},
   "outputs": [
    {
     "name": "stdout",
     "output_type": "stream",
     "text": [
      "Discrete(3)\n",
      "Box(2,)\n",
      "[0.6  0.07]\n",
      "[-1.2  -0.07]\n"
     ]
    }
   ],
   "source": [
    "print(env.action_space)\n",
    "print(env.observation_space)\n",
    "print(env.observation_space.high)\n",
    "print(env.observation_space.low)"
   ]
  },
  {
   "cell_type": "code",
   "execution_count": 4,
   "metadata": {},
   "outputs": [],
   "source": [
    "total_rewards = []\n",
    "episode_max = 1000\n",
    "\n",
    "for episode in range(episode_max):\n",
    "    state = env.reset()\n",
    "    episode_reward = 0\n",
    "    \n",
    "    done = False\n",
    "    while not done:\n",
    "        action = env.action_space.sample()\n",
    "        observation, reward, done, info = env.step(action)\n",
    "        episode_reward += reward\n",
    "        \n",
    "        if done:\n",
    "            total_rewards.append(episode_reward)\n",
    "            break\n",
    "env.close()"
   ]
  },
  {
   "cell_type": "code",
   "execution_count": 5,
   "metadata": {},
   "outputs": [
    {
     "data": {
      "text/plain": [
       "(array([-200.]), array([1000], dtype=int64))"
      ]
     },
     "execution_count": 5,
     "metadata": {},
     "output_type": "execute_result"
    }
   ],
   "source": [
    "np.unique(total_rewards, return_counts=True)"
   ]
  },
  {
   "cell_type": "code",
   "execution_count": 6,
   "metadata": {},
   "outputs": [
    {
     "name": "stdout",
     "output_type": "stream",
     "text": [
      "Task was solved 0 times out of 1000 with random action algorithm.\n"
     ]
    }
   ],
   "source": [
    "total_rewards = np.array(total_rewards)\n",
    "print(f\"Task was solved {len(total_rewards[total_rewards > -200])} times out of {episode_max} with random action algorithm.\")"
   ]
  },
  {
   "cell_type": "markdown",
   "metadata": {},
   "source": [
    "It's clear that provided task can't be solved with simple policy of taking random actions. Let's try to learn optimal policy with deep Q learning algorithm. More precisely, we will learn Q values and than take based on them choose next action."
   ]
  },
  {
   "cell_type": "markdown",
   "metadata": {},
   "source": [
    "### Model"
   ]
  },
  {
   "cell_type": "markdown",
   "metadata": {},
   "source": [
    "Let's first define DL model"
   ]
  },
  {
   "cell_type": "code",
   "execution_count": 7,
   "metadata": {},
   "outputs": [],
   "source": [
    "observation_space_dim = env.observation_space.shape[0]\n",
    "action_space_dim = env.action_space.n"
   ]
  },
  {
   "cell_type": "code",
   "execution_count": 8,
   "metadata": {},
   "outputs": [],
   "source": [
    "def create_model(hidden_dim=30):\n",
    "    return nn.Sequential(\n",
    "        nn.Linear(observation_space_dim, hidden_dim),\n",
    "        nn.ReLU(),\n",
    "        nn.Linear(hidden_dim, hidden_dim),\n",
    "        nn.ReLU(),\n",
    "        nn.Linear(hidden_dim, action_space_dim)\n",
    "    )"
   ]
  },
  {
   "cell_type": "code",
   "execution_count": 9,
   "metadata": {},
   "outputs": [],
   "source": [
    "def init_weights_default(layer):\n",
    "    pass"
   ]
  },
  {
   "cell_type": "code",
   "execution_count": 10,
   "metadata": {},
   "outputs": [],
   "source": [
    "def init_weights_xavier(layer):\n",
    "    if type(layer) == nn.Linear:\n",
    "        nn.init.xavier_normal_(layer.weight)"
   ]
  },
  {
   "cell_type": "code",
   "execution_count": 11,
   "metadata": {},
   "outputs": [
    {
     "name": "stdout",
     "output_type": "stream",
     "text": [
      "Sequential(\n",
      "  (0): Linear(in_features=2, out_features=30, bias=True)\n",
      "  (1): ReLU()\n",
      "  (2): Linear(in_features=30, out_features=30, bias=True)\n",
      "  (3): ReLU()\n",
      "  (4): Linear(in_features=30, out_features=3, bias=True)\n",
      ")\n"
     ]
    }
   ],
   "source": [
    "model = create_model()\n",
    "print(model)"
   ]
  },
  {
   "cell_type": "markdown",
   "metadata": {},
   "source": [
    "In deep learning, the target labels are not changing over training. That makes training stable. Since in Q learning estimation of Q-values is based on another Q-values we are dealing with continiously changing target. To make RL model more stable we will use two models. One will be fixed till another one is training. Once in a while we will update first model too. Information is took from [Analytics Vidhya](https://www.analyticsvidhya.com/blog/2019/04/introduction-deep-q-learning-python/)."
   ]
  },
  {
   "cell_type": "markdown",
   "metadata": {},
   "source": [
    "#### Auxiliary Tasks"
   ]
  },
  {
   "cell_type": "markdown",
   "metadata": {},
   "source": [
    "Inspired by paper [REINFORCEMENT LEARNING WITH UNSUPERVISED AUXILIARY TASKS](https://arxiv.org/pdf/1611.05397.pdf), emerged idea of adding auxiliary loss to original task to improve model's perfomance."
   ]
  },
  {
   "cell_type": "code",
   "execution_count": 12,
   "metadata": {},
   "outputs": [],
   "source": [
    "class ModelAuxiliary(nn.Module):\n",
    "    def __init__(self, hidden_dim=30):\n",
    "        super().__init__()\n",
    "        self.fc1 = nn.Linear(observation_space_dim, hidden_dim)\n",
    "        self.fc2 = nn.Linear(hidden_dim, hidden_dim)\n",
    "        self.fc3 = nn.Linear(hidden_dim, action_space_dim)\n",
    "        self.fc4 = nn.Linear(hidden_dim, 1)\n",
    "    def forward(self, x):\n",
    "        \"\"\"Predicts action\"\"\"\n",
    "        x = F.relu(self.fc1(x))\n",
    "        x = F.relu(self.fc2(x))\n",
    "        return self.fc3(x)\n",
    "    def forward_reward(self, x):\n",
    "        \"\"\"Predicts reward of action\"\"\"\n",
    "        x = F.relu(self.fc1(x))\n",
    "        x = F.relu(self.fc2(x))\n",
    "        return self.fc4(x)"
   ]
  },
  {
   "cell_type": "code",
   "execution_count": 13,
   "metadata": {},
   "outputs": [
    {
     "name": "stdout",
     "output_type": "stream",
     "text": [
      "ModelAuxiliary(\n",
      "  (fc1): Linear(in_features=2, out_features=30, bias=True)\n",
      "  (fc2): Linear(in_features=30, out_features=30, bias=True)\n",
      "  (fc3): Linear(in_features=30, out_features=3, bias=True)\n",
      "  (fc4): Linear(in_features=30, out_features=1, bias=True)\n",
      ")\n"
     ]
    }
   ],
   "source": [
    "model = ModelAuxiliary()\n",
    "print(model)"
   ]
  },
  {
   "cell_type": "code",
   "execution_count": 14,
   "metadata": {},
   "outputs": [],
   "source": [
    "def create_model(hidden_dim=30, auxiliary_task=False):\n",
    "    if auxiliary_task:\n",
    "        return ModelAuxiliary(hidden_dim)\n",
    "    else:\n",
    "        return nn.Sequential(\n",
    "            nn.Linear(observation_space_dim, hidden_dim),\n",
    "            nn.ReLU(),\n",
    "            nn.Linear(hidden_dim, hidden_dim),\n",
    "            nn.ReLU(),\n",
    "            nn.Linear(hidden_dim, action_space_dim)\n",
    "        )"
   ]
  },
  {
   "cell_type": "markdown",
   "metadata": {},
   "source": [
    "### Experience Replay"
   ]
  },
  {
   "cell_type": "markdown",
   "metadata": {},
   "source": [
    "Also we will use Experience replay technique. Good motivation and explonation of it is provided in [Dealing with Sparse Rewards in Reinforcement Learning](https://arxiv.org/abs/1910.09281):\n",
    "\n",
    "If using a gradient based iterative optimisation process as done via back-propagation in\n",
    "neural networks, it is important that the data is independent and identically distributed (i.i.d.).\n",
    "This is done as to avoid sampling bias from correlated inputs, which can cause the gradient to get\n",
    "stuck in a non-optimal local maxima (as we are performing gradient ascent to maximise the expected\n",
    "future reward). Experience replay is a method to help decorrelate the sequential experiences gained\n",
    "from dynamic programming and model free reinforcement learning methods. This is done by storing\n",
    "experiences, a tuple of (st, at, rt, st+1) into a list of experiences known as the replay memory. Batch\n",
    "samples can be drawn randomly from the replay memory which provide ∼ i.i.d. for a large replay\n",
    "length."
   ]
  },
  {
   "cell_type": "code",
   "execution_count": 15,
   "metadata": {},
   "outputs": [],
   "source": [
    "class Experience:\n",
    "    \"\"\"Class for implementing Experience Replay technique\"\"\"\n",
    "    def __init__(self, capacity, weighted=False):\n",
    "        self.capacity = capacity\n",
    "        self.experience = []\n",
    "        self.weighted = weighted\n",
    "\n",
    "    def add(self, el):\n",
    "        self.experience.append(el)\n",
    "        self.experience = self.experience[-self.capacity:]\n",
    "\n",
    "    def sample(self, batch_size):\n",
    "        if self.weighted:\n",
    "            raise NotImplementedError\n",
    "        else:\n",
    "            return random.sample(self.experience, batch_size)"
   ]
  },
  {
   "cell_type": "markdown",
   "metadata": {},
   "source": [
    "There is one possible improvement in base Experience Replay method regarding the way of sampling. We can use weighted sampling to put more attention to states with greater reward."
   ]
  },
  {
   "cell_type": "markdown",
   "metadata": {},
   "source": [
    "### Fitting network"
   ]
  },
  {
   "cell_type": "markdown",
   "metadata": {},
   "source": [
    "To fit network we have to calculate predicted by model Q-values and target Q-values created by fixed model."
   ]
  },
  {
   "cell_type": "code",
   "execution_count": 16,
   "metadata": {},
   "outputs": [],
   "source": [
    "def fit(model, fixed_model, data, optimizer, criterion, gamma=0.99):\n",
    "    \"\"\"Trains model with data from batch\"\"\"\n",
    "    state, action, reward, next_state, done = list(zip(*data))\n",
    "    \n",
    "    state = torch.tensor(state).float()\n",
    "    action = torch.tensor(action)\n",
    "    reward = torch.tensor(reward).float()\n",
    "    next_state = torch.tensor(next_state).float()\n",
    "    done = torch.tensor(done).int()\n",
    "\n",
    "    with torch.no_grad():\n",
    "        target = reward + gamma * torch.max(fixed_model(next_state)) * done\n",
    "    target = target.unsqueeze(1)\n",
    "    \n",
    "    predicted = model(state).gather(1, action.unsqueeze(1))\n",
    "    \n",
    "    loss = loss_q = criterion(predicted, target)\n",
    "    \n",
    "    if hasattr(model, 'forward_reward'): # Auxiliary loss - predict reward of next action\n",
    "        predicted_reward = model.forward_reward(state)\n",
    "        predicted_reward = predicted_reward.view(predicted_reward.shape[0])\n",
    "        loss_reward = criterion(reward, predicted_reward)\n",
    "        loss += loss_reward\n",
    "        \n",
    "    optimizer.zero_grad()\n",
    "    loss.backward()\n",
    "#     for param in model.parameters():\n",
    "#         param.grad.data.clamp_(-1, 1)\n",
    "    optimizer.step()\n",
    "    \n",
    "    if hasattr(model, 'forward_reward'):\n",
    "        return loss_q.item(), loss_reward.item()\n",
    "    else:\n",
    "        return loss_q.item()"
   ]
  },
  {
   "cell_type": "markdown",
   "metadata": {},
   "source": [
    "### Reward function"
   ]
  },
  {
   "cell_type": "markdown",
   "metadata": {},
   "source": [
    "Let's first define base reward function:"
   ]
  },
  {
   "cell_type": "code",
   "execution_count": 17,
   "metadata": {},
   "outputs": [],
   "source": [
    "def calc_base_reward(state, reward, next_state):\n",
    "    return reward"
   ]
  },
  {
   "cell_type": "markdown",
   "metadata": {},
   "source": [
    "Major difficulty of Mountain car task is extremely sparce rewards: reward is -1 after each step till goal is not reached. To make reward function more dense and therefore make it easier for agent to learn we will add some heuristic to it. There is a paper about how to do that correctly: [Policy invarience under reward transformation. Theory and application of reward shaping](https://people.eecs.berkeley.edu/~pabbeel/cs287-fa09/readings/NgHaradaRussell-shaping-ICML1999.pdf)."
   ]
  },
  {
   "cell_type": "markdown",
   "metadata": {},
   "source": [
    "#### Kinetic"
   ]
  },
  {
   "cell_type": "markdown",
   "metadata": {},
   "source": [
    "It's logical that car need high speed to reach goal. Thus, let's give reward according to car's speed."
   ]
  },
  {
   "cell_type": "code",
   "execution_count": 18,
   "metadata": {},
   "outputs": [],
   "source": [
    "def calc_reward_kinetic(state, reward, next_state):\n",
    "    return reward + 10 * abs(next_state[1])"
   ]
  },
  {
   "cell_type": "code",
   "execution_count": null,
   "metadata": {},
   "outputs": [],
   "source": [
    "def calc_reward_kinetic_v2(state, reward, next_state):\n",
    "    return reward + 1000 * (0.9 * abs(next_state[1]) - abs(state[1]))"
   ]
  },
  {
   "cell_type": "markdown",
   "metadata": {},
   "source": [
    "#### Potential"
   ]
  },
  {
   "cell_type": "code",
   "execution_count": null,
   "metadata": {},
   "outputs": [
    {
     "data": {
      "image/png": "[encoded data removed]",
      "text/plain": [
       "<Figure size 432x288 with 1 Axes>"
      ]
     },
     "metadata": {
      "needs_background": "light"
     },
     "output_type": "display_data"
    }
   ],
   "source": [
    "initial_positions = []\n",
    "for _ in range(10000):\n",
    "    state = env.reset()\n",
    "    initial_positions.append(state[0])\n",
    "\n",
    "plt.hist(initial_positions)\n",
    "plt.show()"
   ]
  },
  {
   "cell_type": "markdown",
   "metadata": {},
   "source": [
    "We can see that start positions are uniformly distributed over segment [-0.6, -0.4]. Also we know that mountains are from both side of initial position. To reach goal car have to clumb high into the mountains. Thus, let's give additional reward according to car's height in the mountains. In current task it is equalent to distance from initial position: the more is distance the more is height. Beside major goal this reward will in some kind encorage exploration of space."
   ]
  },
  {
   "cell_type": "code",
   "execution_count": null,
   "metadata": {},
   "outputs": [
    {
     "data": {
      "text/plain": [
       "-0.5006513853181341"
      ]
     },
     "execution_count": 21,
     "metadata": {},
     "output_type": "execute_result"
    }
   ],
   "source": [
    "initial_position = np.mean(initial_positions)\n",
    "initial_position"
   ]
  },
  {
   "cell_type": "code",
   "execution_count": null,
   "metadata": {},
   "outputs": [],
   "source": [
    "def potential(x):\n",
    "    return abs(x - initial_position)"
   ]
  },
  {
   "cell_type": "code",
   "execution_count": null,
   "metadata": {},
   "outputs": [],
   "source": [
    "def calc_reward_potential(state, reward, next_state):\n",
    "    return reward + potential(next_state[0])"
   ]
  },
  {
   "cell_type": "code",
   "execution_count": null,
   "metadata": {},
   "outputs": [],
   "source": [
    "def calc_reward_potential_v2(state, reward, next_state):\n",
    "    return reward + 1000 * (0.99 * potential(next_state[0]) - potential(state[0]))"
   ]
  },
  {
   "cell_type": "markdown",
   "metadata": {},
   "source": [
    "#### Reward function visualisation"
   ]
  },
  {
   "cell_type": "markdown",
   "metadata": {},
   "source": [
    "Reward shaping technique used above aimes at making some states more desirable. Let's draw that."
   ]
  },
  {
   "cell_type": "code",
   "execution_count": null,
   "metadata": {},
   "outputs": [],
   "source": [
    "reward_functions = [calc_reward_kinetic,\n",
    "                    calc_reward_potential]"
   ]
  },
  {
   "cell_type": "code",
   "execution_count": null,
   "metadata": {},
   "outputs": [],
   "source": [
    "def visualize_reward_function(reward_function, N=100, title=\"\"):\n",
    "    \"\"\"Visualise policy of model for Mountain car\"\"\"\n",
    "    loc_max, speed_max = env.observation_space.high\n",
    "    loc_min, speed_min = env.observation_space.low\n",
    "    locs = np.linspace(loc_min, loc_max, N)\n",
    "    speeds = np.linspace(speed_min, speed_max, N)\n",
    "    \n",
    "    reward_values = np.array([reward_function(None, 0, (loc, speed)) for speed in speeds for loc in locs]).reshape((N, N))\n",
    "\n",
    "    plt.figure(figsize=(3, 3))\n",
    "    plt.imshow(reward_values, cmap=\"gray\")\n",
    "    plt.colorbar()\n",
    "    plt.title(title)\n",
    "    \n",
    "    xticks = list(range(len(locs)))[::int(N/10)]\n",
    "    xlabels = [round(num, 2) for num in locs[::int(N/10)]]\n",
    "    yticks = list(range(len(speeds)))[::int(N/10)]\n",
    "    ylabels = [round(num, 2) for num in speeds[::int(N/10)]]\n",
    "    plt.xticks(xticks, xlabels, rotation=90)\n",
    "    plt.yticks(yticks, ylabels)\n",
    "    plt.xlabel(\"Location\")\n",
    "    plt.ylabel(\"Speed\")\n",
    "\n",
    "    plt.show()"
   ]
  },
  {
   "cell_type": "code",
   "execution_count": null,
   "metadata": {},
   "outputs": [
    {
     "data": {
      "image/png": "[encoded data removed]",
      "text/plain": [
       "<Figure size 216x216 with 2 Axes>"
      ]
     },
     "metadata": {
      "needs_background": "light"
     },
     "output_type": "display_data"
    },
    {
     "data": {
      "image/png": "[encoded data removed]",
      "text/plain": [
       "<Figure size 216x216 with 2 Axes>"
      ]
     },
     "metadata": {
      "needs_background": "light"
     },
     "output_type": "display_data"
    }
   ],
   "source": [
    "for reward_function in reward_functions:\n",
    "    visualize_reward_function(reward_function, title=reward_function.__name__)"
   ]
  },
  {
   "cell_type": "markdown",
   "metadata": {},
   "source": [
    "### Training"
   ]
  },
  {
   "cell_type": "markdown",
   "metadata": {},
   "source": [
    "For training we will use eps-greedy policy with decreasing eps over time."
   ]
  },
  {
   "cell_type": "code",
   "execution_count": null,
   "metadata": {},
   "outputs": [],
   "source": [
    "def greedy_action(model, state, eps=0):\n",
    "    \"\"\"Returns action in accordance with eps-greedy policy\"\"\"\n",
    "    with torch.no_grad():\n",
    "        if np.random.rand() < eps:\n",
    "            return np.random.choice(action_space_dim)\n",
    "        else:\n",
    "            output = model(torch.tensor(state).float())\n",
    "            return torch.argmax(output).item()"
   ]
  },
  {
   "cell_type": "code",
   "execution_count": null,
   "metadata": {},
   "outputs": [],
   "source": [
    "def validate_model(model, draw=False):\n",
    "    \"\"\"Simulate model in environment\"\"\"\n",
    "    state = env.reset()\n",
    "    total_reward = 0\n",
    "    done=False\n",
    "    while not done:\n",
    "        if draw:\n",
    "            env.render()\n",
    "        action = greedy_action(model, state)\n",
    "        state, reward, done, _ = env.step(action)\n",
    "        total_reward += reward\n",
    "\n",
    "    state = env.reset()  \n",
    "    if draw:\n",
    "        env.close()\n",
    "    return total_reward"
   ]
  },
  {
   "cell_type": "code",
   "execution_count": null,
   "metadata": {},
   "outputs": [],
   "source": [
    "def train(criterion, reward_function, learning_rate, init_weights_func=init_weights_default, \n",
    "          model_hidden_dim=50, auxiliary_task=False,\n",
    "          time_max=100000, batchsize=128, fixed_model_update=1000, experience_size=5000,\n",
    "          eps_min=0.1, eps_max=0.5):\n",
    "    \n",
    "    env = gym.make(\"MountainCar-v0\")\n",
    "#     env.seed(2020)\n",
    "#     np.random.seed(2020)\n",
    "#     random.seed(2020)\n",
    "    \n",
    "    total_rewards = []\n",
    "    losses = []\n",
    "    \n",
    "    model = create_model(model_hidden_dim, auxiliary_task)\n",
    "    fixed_model = copy.deepcopy(model)\n",
    "    model.apply(init_weights_func)\n",
    "    optimizer = torch.optim.Adam(model.parameters(), lr=learning_rate)\n",
    "    \n",
    "    experience = Experience(capacity=experience_size)\n",
    "    \n",
    "    state = env.reset()\n",
    "    \n",
    "    for time in tqdm(range(time_max)):\n",
    "        eps = eps_max - (eps_max - eps_min) * time / time_max\n",
    "        action = greedy_action(model, state, eps)\n",
    "        next_state, reward, done, _ = env.step(action)\n",
    "        \n",
    "        experience.add([\n",
    "            state,\n",
    "            action,\n",
    "            reward_function(state, reward, next_state),\n",
    "            next_state,\n",
    "            done\n",
    "        ])\n",
    "        \n",
    "        if time > batchsize:\n",
    "            loss = fit(model, fixed_model, experience.sample(batchsize), optimizer, criterion) # Train model\n",
    "            losses.append(loss)\n",
    "                \n",
    "        if time % fixed_model_update == 0:\n",
    "            fixed_model = copy.deepcopy(model)\n",
    "            total_rewards.append(validate_model(fixed_model))\n",
    "            \n",
    "        if done: # Restart simulation\n",
    "            state = env.reset()\n",
    "        else:\n",
    "            state = next_state\n",
    "    return model, total_rewards, losses"
   ]
  },
  {
   "cell_type": "markdown",
   "metadata": {},
   "source": [
    "### Experiments"
   ]
  },
  {
   "cell_type": "code",
   "execution_count": null,
   "metadata": {},
   "outputs": [],
   "source": [
    "def plot_loss(losses, title, fixed_model_update=1000):\n",
    "    \"\"\"Plots loss of predicting q value and loss of predicting reward if available\"\"\"\n",
    "    if isinstance(losses[0], Iterable):\n",
    "        losses_to_plot = list(zip(*losses))\n",
    "    else:\n",
    "        losses_to_plot = [losses]\n",
    "        \n",
    "    plt.figure(figsize=(20, 5))\n",
    "    plt.title(title)\n",
    "    labels = [\"Loss Q values predicting\", \"Loss Reward predicting\"]\n",
    "    for i, loss in enumerate(losses_to_plot):\n",
    "        plt.plot(range(len(loss)), loss, label=labels[i])\n",
    "        \n",
    "    for x in range(0, len(losses_to_plot[0]), fixed_model_update):\n",
    "        plt.axvline(x=x, color=\"red\")\n",
    "    plt.axvline(x=x, color=\"red\", label=\"Fixed model update\") # Smart but lazy way to have only one label for all vertical lines\n",
    "    plt.legend()\n",
    "    plt.grid()\n",
    "    plt.show()"
   ]
  },
  {
   "cell_type": "code",
   "execution_count": null,
   "metadata": {},
   "outputs": [],
   "source": [
    "def visualize_policy(model, N=100, title=None):\n",
    "    \"\"\"Visualise policy of model for Mountain car\"\"\"\n",
    "    loc_max, speed_max = env.observation_space.high\n",
    "    loc_min, speed_min = env.observation_space.low\n",
    "    locs = np.linspace(loc_min, loc_max, N)\n",
    "    speeds = np.linspace(speed_min, speed_max, N)\n",
    "    locs, speeds = np.meshgrid(locs, speeds)\n",
    "    locs, speeds = locs.flatten(), speeds.flatten()\n",
    "    \n",
    "    policy_map = [greedy_action(model, (loc, speed)) for (loc, speed) in zip(locs, speeds)]\n",
    "    \n",
    "    colors = {0:'lime',1:'blue',2:'red'}\n",
    "    policy_colors = [colors[policy] for policy in policy_map]\n",
    "    labels = ['Left','Nothing','Right']\n",
    "\n",
    "    plt.figure(figsize=(7, 7))\n",
    "    plt.scatter(locs, speeds, c=policy_colors)\n",
    "    if title:\n",
    "        plt.title(title + \" model's policy\")\n",
    "    else:\n",
    "        plt.title(\"Model's policy\")\n",
    "    plt.xlabel(\"Location\")\n",
    "    plt.ylabel(\"Speed\")\n",
    "    \n",
    "    recs = []\n",
    "    for i in range(len(labels)):\n",
    "         recs.append(mpatches.Rectangle((0,0), 1, 1, fc=list(colors.values())[i]))\n",
    "    plt.legend(recs, labels, loc=4, ncol=3)\n",
    "\n",
    "    plt.show()"
   ]
  },
  {
   "cell_type": "markdown",
   "metadata": {},
   "source": [
    "#### Reward function"
   ]
  },
  {
   "cell_type": "markdown",
   "metadata": {},
   "source": [
    "Now let's compare proposed reward functions (5 in total)."
   ]
  },
  {
   "cell_type": "code",
   "execution_count": null,
   "metadata": {
    "scrolled": true
   },
   "outputs": [
    {
     "data": {
      "application/vnd.jupyter.widget-view+json": {
       "model_id": "0ce5e59bb88a428793a3001241ce38a6",
       "version_major": 2,
       "version_minor": 0
      },
      "text/plain": [
       "HBox(children=(IntProgress(value=0, max=30000), HTML(value='')))"
      ]
     },
     "metadata": {},
     "output_type": "display_data"
    },
    {
     "name": "stdout",
     "output_type": "stream",
     "text": [
      "\n",
      "Training configuration: calc_base_reward, mean total reward: -200.0\n"
     ]
    },
    {
     "data": {
      "application/vnd.jupyter.widget-view+json": {
       "model_id": "853423b2eebb4d169c8e365e68b5bc62",
       "version_major": 2,
       "version_minor": 0
      },
      "text/plain": [
       "HBox(children=(IntProgress(value=0, max=30000), HTML(value='')))"
      ]
     },
     "metadata": {},
     "output_type": "display_data"
    },
    {
     "name": "stdout",
     "output_type": "stream",
     "text": [
      "\n",
      "Training configuration: calc_reward_kinetic, mean total reward: -153.56666666666666\n"
     ]
    },
    {
     "data": {
      "application/vnd.jupyter.widget-view+json": {
       "model_id": "b58d0da3f0104584b13f6bc99ad8825e",
       "version_major": 2,
       "version_minor": 0
      },
      "text/plain": [
       "HBox(children=(IntProgress(value=0, max=30000), HTML(value='')))"
      ]
     },
     "metadata": {},
     "output_type": "display_data"
    },
    {
     "name": "stdout",
     "output_type": "stream",
     "text": [
      "\n",
      "Training configuration: calc_reward_kinetic_v2, mean total reward: -120.23333333333333\n"
     ]
    },
    {
     "data": {
      "application/vnd.jupyter.widget-view+json": {
       "model_id": "f06b8957b11e4e8db11a9409ca6588ad",
       "version_major": 2,
       "version_minor": 0
      },
      "text/plain": [
       "HBox(children=(IntProgress(value=0, max=30000), HTML(value='')))"
      ]
     },
     "metadata": {},
     "output_type": "display_data"
    },
    {
     "name": "stdout",
     "output_type": "stream",
     "text": [
      "\n",
      "Training configuration: calc_reward_potential, mean total reward: -200.0\n"
     ]
    },
    {
     "data": {
      "application/vnd.jupyter.widget-view+json": {
       "model_id": "5d0eafe1454e42b08b78da5237e7fa60",
       "version_major": 2,
       "version_minor": 0
      },
      "text/plain": [
       "HBox(children=(IntProgress(value=0, max=30000), HTML(value='')))"
      ]
     },
     "metadata": {},
     "output_type": "display_data"
    },
    {
     "name": "stdout",
     "output_type": "stream",
     "text": [
      "\n",
      "Training configuration: calc_reward_potential_v2, mean total reward: -200.0\n"
     ]
    }
   ],
   "source": [
    "time_max = 30000\n",
    "criterion = nn.functional.mse_loss\n",
    "lr = 0.001\n",
    "\n",
    "reward_functions = [calc_base_reward,\n",
    "                    calc_reward_kinetic,\n",
    "                    calc_reward_kinetic_v2,\n",
    "                    calc_reward_potential,\n",
    "                    calc_reward_potential_v2]\n",
    "init_weights_function = init_weights_default\n",
    "\n",
    "configs_reward_functions = []\n",
    "results_reward_functions = []\n",
    "models_reward_functions = []\n",
    "losses_reward_functions = []\n",
    "\n",
    "for reward_function in reward_functions:\n",
    "    config = reward_function.__name__\n",
    "    model, total_reward, losses = train(criterion,\n",
    "                                        reward_function,\n",
    "                                        lr,\n",
    "                                        init_weights_function,\n",
    "                                        time_max=time_max,\n",
    "                                        batchsize=128,\n",
    "                                        eps_max=0.9, \n",
    "                                        experience_size=5000)\n",
    "\n",
    "    print(f\"Training configuration: {config}, mean total reward: {np.mean(total_reward)}\")\n",
    "    configs_reward_functions.append(config)\n",
    "    results_reward_functions.append(total_reward)\n",
    "    models_reward_functions.append(model)\n",
    "    losses_reward_functions.append(losses)"
   ]
  },
  {
   "cell_type": "code",
   "execution_count": null,
   "metadata": {},
   "outputs": [
    {
     "data": {
      "image/png": "[encoded data removed]",
      "text/plain": [
       "<Figure size 1440x360 with 1 Axes>"
      ]
     },
     "metadata": {
      "needs_background": "light"
     },
     "output_type": "display_data"
    }
   ],
   "source": [
    "plt.figure(figsize=(20, 5))\n",
    "plt.title(\"Reward functions comparison\")\n",
    "for i in range(len(results_reward_functions)):\n",
    "    plt.plot(range(len(results_reward_functions[i])), results_reward_functions[i], label=configs_reward_functions[i])\n",
    "plt.legend()\n",
    "plt.xlabel(\"Time\")\n",
    "plt.ylabel(\"Reward\")\n",
    "plt.grid()\n",
    "plt.show()"
   ]
  },
  {
   "cell_type": "markdown",
   "metadata": {},
   "source": [
    "Comparing calc_reward_kinetic and calc_reward_kinetic_v2 we see that latter shows more stable results. This proves that using technique mentioned in paper ([Policy invarience under reward transformation. Theory and application of reward shaping](https://people.eecs.berkeley.edu/~pabbeel/cs287-fa09/readings/NgHaradaRussell-shaping-ICML1999.pdf)) works in our case too. "
   ]
  },
  {
   "cell_type": "markdown",
   "metadata": {},
   "source": [
    "#### Model's arhitecture"
   ]
  },
  {
   "cell_type": "code",
   "execution_count": null,
   "metadata": {},
   "outputs": [
    {
     "data": {
      "application/vnd.jupyter.widget-view+json": {
       "model_id": "80c3fc87b16947a392cf8ea723c73237",
       "version_major": 2,
       "version_minor": 0
      },
      "text/plain": [
       "HBox(children=(IntProgress(value=0, max=30000), HTML(value='')))"
      ]
     },
     "metadata": {},
     "output_type": "display_data"
    },
    {
     "name": "stdout",
     "output_type": "stream",
     "text": [
      "\n",
      "Training configuration: 10 hidden neurons, mean total reward: -125.73333333333333\n"
     ]
    },
    {
     "data": {
      "application/vnd.jupyter.widget-view+json": {
       "model_id": "71031cda213142efa42b02de18fa92a3",
       "version_major": 2,
       "version_minor": 0
      },
      "text/plain": [
       "HBox(children=(IntProgress(value=0, max=30000), HTML(value='')))"
      ]
     },
     "metadata": {},
     "output_type": "display_data"
    },
    {
     "name": "stdout",
     "output_type": "stream",
     "text": [
      "\n",
      "Training configuration: 50 hidden neurons, mean total reward: -125.3\n"
     ]
    },
    {
     "data": {
      "application/vnd.jupyter.widget-view+json": {
       "model_id": "f1654aaa014941088345ed240460eaf2",
       "version_major": 2,
       "version_minor": 0
      },
      "text/plain": [
       "HBox(children=(IntProgress(value=0, max=30000), HTML(value='')))"
      ]
     },
     "metadata": {},
     "output_type": "display_data"
    },
    {
     "name": "stdout",
     "output_type": "stream",
     "text": [
      "\n",
      "Training configuration: 200 hidden neurons, mean total reward: -119.83333333333333\n"
     ]
    }
   ],
   "source": [
    "time_max = 30000\n",
    "criterion = nn.functional.mse_loss\n",
    "lr = 0.01\n",
    "reward_function = calc_reward_kinetic_v2\n",
    "init_weights_function = init_weights_default\n",
    "\n",
    "model_hidden_dims = [10, 50, 200]\n",
    "configs_hidden_dim = []\n",
    "results_hidden_dim = []\n",
    "\n",
    "\n",
    "for hidden_dim in model_hidden_dims:\n",
    "    config = str(hidden_dim) + \" hidden neurons\"\n",
    "    model, total_reward, _ = train(criterion,\n",
    "                                   reward_function,\n",
    "                                   lr,\n",
    "                                   init_weights_function,\n",
    "                                   model_hidden_dim=hidden_dim,\n",
    "                                   time_max=time_max,\n",
    "                                   batchsize=128)\n",
    "\n",
    "    print(f\"Training configuration: {config}, mean total reward: {np.mean(total_reward)}\")\n",
    "    configs_hidden_dim.append(config)\n",
    "    results_hidden_dim.append(total_reward)"
   ]
  },
  {
   "cell_type": "code",
   "execution_count": null,
   "metadata": {},
   "outputs": [
    {
     "data": {
      "image/png": "[encoded data removed]",
      "text/plain": [
       "<Figure size 1440x360 with 1 Axes>"
      ]
     },
     "metadata": {
      "needs_background": "light"
     },
     "output_type": "display_data"
    }
   ],
   "source": [
    "plt.figure(figsize=(20, 5))\n",
    "plt.title(\"Network's Architecture\")\n",
    "for i in range(len(results_hidden_dim)):\n",
    "    plt.plot(range(len(results_hidden_dim[i])), results_hidden_dim[i], label=configs_hidden_dim[i])\n",
    "plt.legend()\n",
    "plt.xlabel(\"Time\")\n",
    "plt.ylabel(\"Reward\")\n",
    "plt.grid()\n",
    "plt.show()"
   ]
  },
  {
   "cell_type": "markdown",
   "metadata": {},
   "source": [
    "What is here interesting is that even with only 10 neurons model can learn how to reach the goal"
   ]
  },
  {
   "cell_type": "markdown",
   "metadata": {},
   "source": [
    "#### Auxiliary loss"
   ]
  },
  {
   "cell_type": "code",
   "execution_count": null,
   "metadata": {},
   "outputs": [
    {
     "data": {
      "application/vnd.jupyter.widget-view+json": {
       "model_id": "ef1d0ee7b2324797ae9ab04caf34fe98",
       "version_major": 2,
       "version_minor": 0
      },
      "text/plain": [
       "HBox(children=(IntProgress(value=0, max=100000), HTML(value='')))"
      ]
     },
     "metadata": {},
     "output_type": "display_data"
    }
   ],
   "source": [
    "time_max = 100000\n",
    "criterion = nn.functional.mse_loss\n",
    "lr = 0.01\n",
    "reward_function = calc_reward_kinetic_v2\n",
    "init_weights_function = init_weights_default\n",
    "hidden_dim = 50\n",
    "\n",
    "configs_auxiliary_task = []\n",
    "results_auxiliary_task = []\n",
    "models_auxiliary_task = []\n",
    "losses_auxiliary_task = []\n",
    "\n",
    "for auxiliary_task in [True, False]:\n",
    "    config = \"Model {} auxiliary task\".format(\"with\" if auxiliary_task else \"without\")\n",
    "    model, total_reward, losses = train(criterion,\n",
    "                                reward_function,\n",
    "                                lr,\n",
    "                                init_weights_function,\n",
    "                                model_hidden_dim=hidden_dim,\n",
    "                                auxiliary_task=auxiliary_task,\n",
    "                                time_max=time_max,\n",
    "                                batchsize=128)\n",
    "\n",
    "    print(f\"Training configuration: {config}, mean total reward: {np.mean(total_reward)}\")\n",
    "    configs_auxiliary_task.append(config)\n",
    "    results_auxiliary_task.append(total_reward)\n",
    "    models_auxiliary_task.append(model)\n",
    "    losses_auxiliary_task.append(losses)"
   ]
  },
  {
   "cell_type": "code",
   "execution_count": null,
   "metadata": {},
   "outputs": [],
   "source": [
    "plt.figure(figsize=(20, 5))\n",
    "plt.title(\"Auxiliary task\")\n",
    "for i in range(len(results_auxiliary_task)):\n",
    "    plt.plot(range(len(results_auxiliary_task[i])), results_auxiliary_task[i], label=configs_auxiliary_task[i])\n",
    "plt.legend()\n",
    "plt.xlabel(\"Time\")\n",
    "plt.ylabel(\"Reward\")\n",
    "plt.grid()\n",
    "plt.show()"
   ]
  },
  {
   "cell_type": "code",
   "execution_count": null,
   "metadata": {},
   "outputs": [],
   "source": [
    "model_ind = 0\n",
    "model = models_auxiliary_task[model_ind]\n",
    "losses = losses_auxiliary_task[model_ind]\n",
    "config = configs_auxiliary_task[model_ind]"
   ]
  },
  {
   "cell_type": "code",
   "execution_count": null,
   "metadata": {},
   "outputs": [],
   "source": [
    "plot_loss(losses, config)"
   ]
  },
  {
   "cell_type": "code",
   "execution_count": null,
   "metadata": {},
   "outputs": [],
   "source": [
    "validate_model(model, draw=True)"
   ]
  },
  {
   "cell_type": "code",
   "execution_count": null,
   "metadata": {},
   "outputs": [],
   "source": [
    "visualize_policy(model)"
   ]
  },
  {
   "cell_type": "markdown",
   "metadata": {},
   "source": [
    "#### Conclusion"
   ]
  },
  {
   "cell_type": "markdown",
   "metadata": {},
   "source": [
    "We can conclude that:\n",
    "* Default Pytorch and Xavier weights initialisation show the same perfomance\n",
    "* MSE and L1 loss functions show the same perfomance\n",
    "* Even 10 neurons is enough to model policy\n",
    "* Shaping reward with Kinetic approarch helps model to reach goal\n",
    "* Model with Auxiliary task in current implementation is not showing much better results than original model "
   ]
  },
  {
   "cell_type": "code",
   "execution_count": null,
   "metadata": {},
   "outputs": [],
   "source": [
    "# # Let's to a little hack and increase number of steps in environment\n",
    "# episode_steps_max = 1000 \n",
    "# env._max_episode_steps = episode_steps_max"
   ]
  },
  {
   "cell_type": "code",
   "execution_count": null,
   "metadata": {},
   "outputs": [],
   "source": [
    "# Train best model\n",
    "best_model, _, losses = train(nn.functional.mse_loss,\n",
    "                      calc_reward_kinetic,\n",
    "                      0.01,\n",
    "                      init_weights_default,\n",
    "                      time_max=30000)"
   ]
  },
  {
   "cell_type": "code",
   "execution_count": null,
   "metadata": {},
   "outputs": [],
   "source": [
    "total_reward = validate_model(best_model, draw=True)\n",
    "print(f\"Reward: {total_reward}\")\n",
    "visualize_policy(best_model)\n",
    "plot_loss(losses, \"Best model\")"
   ]
  },
  {
   "cell_type": "markdown",
   "metadata": {},
   "source": [
    "As we can see policies decision boundaries are quite simple, this explains why even 10 is enough or model."
   ]
  },
  {
   "cell_type": "markdown",
   "metadata": {},
   "source": [
    "### What's next"
   ]
  },
  {
   "cell_type": "markdown",
   "metadata": {},
   "source": [
    "Try more recent techniques\n",
    "* [Hindsight Experience Replay](https://arxiv.org/pdf/1707.01495.pdf)\n",
    "* [PRIORITIZED EXPERIENCE REPLAY](https://arxiv.org/pdf/1511.05952.pdf)"
   ]
  }
 ],
 "metadata": {
  "kernelspec": {
   "display_name": "Python 3",
   "language": "python",
   "name": "python3"
  },
  "language_info": {
   "codemirror_mode": {
    "name": "ipython",
    "version": 3
   },
   "file_extension": ".py",
   "mimetype": "text/x-python",
   "name": "python",
   "nbconvert_exporter": "python",
   "pygments_lexer": "ipython3",
   "version": "3.7.1"
  }
 },
 "nbformat": 4,
 "nbformat_minor": 2
}
