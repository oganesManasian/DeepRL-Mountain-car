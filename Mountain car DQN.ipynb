{
 "cells": [
  {
   "cell_type": "code",
   "execution_count": 1,
   "metadata": {},
   "outputs": [],
   "source": [
    "import copy\n",
    "import random\n",
    "from torch import optim\n",
    "import torch.nn as nn\n",
    "import torch.nn.functional as F\n",
    "import torch\n",
    "import matplotlib.pyplot as plt\n",
    "from tqdm import tqdm_notebook as tqdm\n",
    "\n",
    "import gym"
   ]
  },
  {
   "cell_type": "markdown",
   "metadata": {},
   "source": [
    "Let's get some information about environment"
   ]
  },
  {
   "cell_type": "code",
   "execution_count": 4,
   "metadata": {},
   "outputs": [],
   "source": [
    "env = gym.make(\"MountainCar-v0\")"
   ]
  },
  {
   "cell_type": "code",
   "execution_count": 5,
   "metadata": {},
   "outputs": [
    {
     "name": "stdout",
     "output_type": "stream",
     "text": [
      "Discrete(3)\n",
      "Box(2,)\n",
      "[0.6  0.07]\n",
      "[-1.2  -0.07]\n"
     ]
    }
   ],
   "source": [
    "print(env.action_space)\n",
    "print(env.observation_space)\n",
    "print(env.observation_space.high)\n",
    "print(env.observation_space.low)"
   ]
  },
  {
   "cell_type": "code",
   "execution_count": 9,
   "metadata": {},
   "outputs": [
    {
     "name": "stdout",
     "output_type": "stream",
     "text": [
      "time: 0, action: 0, observation: [-0.40829502 -0.00186075], reward: -1.0\n",
      "time: 1, action: 0, observation: [-0.41200341 -0.00370839], reward: -1.0\n",
      "time: 2, action: 2, observation: [-0.41553321 -0.0035298 ], reward: -1.0\n",
      "time: 3, action: 1, observation: [-0.41985938 -0.00432617], reward: -1.0\n",
      "time: 4, action: 2, observation: [-0.4239511  -0.00409172], reward: -1.0\n",
      "time: 5, action: 2, observation: [-0.4277791  -0.00382799], reward: -1.0\n",
      "time: 6, action: 1, observation: [-0.43231588 -0.00453679], reward: -1.0\n",
      "time: 7, action: 0, observation: [-0.43852877 -0.00621288], reward: -1.0\n",
      "time: 8, action: 0, observation: [-0.44637277 -0.007844  ], reward: -1.0\n",
      "time: 9, action: 0, observation: [-0.4557908  -0.00941803], reward: -1.0\n"
     ]
    }
   ],
   "source": [
    "state = env.reset()\n",
    "\n",
    "for time in range(10):\n",
    "    env.render()\n",
    "    action = env.action_space.sample()\n",
    "    observation, reward, done, info = env.step(action)\n",
    "    print(f\"time: {time}, action: {action}, observation: {observation}, reward: {reward}\")\n",
    "\n",
    "    if done:\n",
    "        print(\"Episode finished after {} timesteps\".format(time+1))\n",
    "        break\n",
    "env.close()"
   ]
  },
  {
   "cell_type": "code",
   "execution_count": null,
   "metadata": {},
   "outputs": [],
   "source": []
  },
  {
   "cell_type": "markdown",
   "metadata": {},
   "source": [
    "It's clear that provided task can't be solved with simple policy of taking random actions. Let's try to learn optimal policy with deep Q learning algorithm. More precisely, we will learn Q values and than take based on that take "
   ]
  },
  {
   "cell_type": "code",
   "execution_count": null,
   "metadata": {},
   "outputs": [],
   "source": []
  }
 ],
 "metadata": {
  "kernelspec": {
   "display_name": "Python 3",
   "language": "python",
   "name": "python3"
  },
  "language_info": {
   "codemirror_mode": {
    "name": "ipython",
    "version": 3
   },
   "file_extension": ".py",
   "mimetype": "text/x-python",
   "name": "python",
   "nbconvert_exporter": "python",
   "pygments_lexer": "ipython3",
   "version": "3.7.1"
  }
 },
 "nbformat": 4,
 "nbformat_minor": 2
}
